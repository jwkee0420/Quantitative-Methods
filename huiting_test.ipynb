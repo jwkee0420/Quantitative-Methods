{
 "cells": [
  {
   "cell_type": "markdown",
   "id": "8c488e33-e379-4365-946a-5cfa5ae09e4b",
   "metadata": {},
   "source": [
    "# Q3: Who are most likely to cause traffic accidents?"
   ]
  },
  {
   "cell_type": "markdown",
   "id": "1b994573-a32f-418e-bff0-fbb4200eaf8b",
   "metadata": {},
   "source": [
    "**Objective：Analysing the impact of driver and vehicle? characteristics on crash severity and identifying high-risk features**\n",
    "\n",
    "* Dependent Variables：accident_severity(from collision) \n",
    "* Independent Variables：\n",
    "    - driver features：sex_of_driver、age_of_driver、driver_imd_decile\n",
    "    - vehicle features：vehicle_type、vehicle_reference。\n",
    "* mian dataset: dft-road-casualty-statistics-vehicle-2023.csv\n",
    "* other dataset: dft-road-casualty-statistics-collision-2023.csv"
   ]
  },
  {
   "cell_type": "code",
   "execution_count": 2,
   "id": "4ffb616a-f984-4d3d-92f8-1932afe14ea9",
   "metadata": {},
   "outputs": [],
   "source": [
    "import pandas as pd\n",
    "import numpy as np\n",
    "\n",
    "import statsmodels\n",
    "import statsmodels.api as sm\n",
    "\n",
    "import sklearn\n",
    "from sklearn.linear_model import LinearRegression\n",
    "from sklearn.linear_model import LogisticRegression\n",
    "from sklearn.metrics import confusion_matrix\n",
    "\n",
    "import matplotlib.pyplot as plt\n",
    "import matplotlib.ticker as mticker \n",
    "import seaborn as sn\n",
    "\n",
    "import os"
   ]
  },
  {
   "cell_type": "code",
   "execution_count": null,
   "id": "00417996-6d2a-408f-ab8d-c56980047843",
   "metadata": {},
   "outputs": [],
   "source": [
    "# merge data\n",
    "# define output path\n",
    "output_file = 'data/merged_vehicle.csv'\n",
    "\n",
    "os.makedirs(os.path.dirname(output_file), exist_ok=True)\n",
    "\n",
    "# define functions to read and merge block by block\n",
    "def merge_large_csv(files, output_file, chunksize=10000):\n",
    "    \"\"\"\n",
    "    将多个大型 CSV 文件逐块读取并合并，写入到一个新文件中。\n",
    "    \n",
    "    参数：\n",
    "    - files: 需要合并的 CSV 文件路径列表。\n",
    "    - output_file: 合并后的输出文件路径。\n",
    "    - chunksize: 每次读取的行数。\n",
    "    \"\"\"\n",
    "    # controls whether or not the table header is written\n",
    "    is_first_chunk = True\n",
    "\n",
    "    for file in files:\n",
    "        print(f\"Processing {file}...\")\n",
    "        # 逐块读取文件\n",
    "        for chunk in pd.read_csv(file, chunksize=chunksize):\n",
    "            # 逐块写入输出文件\n",
    "            chunk.to_csv(output_file, mode='a', index=False, header=is_first_chunk)\n",
    "            is_first_chunk = False  # 只有第一个文件写入表头\n",
    "    print(f\"All files have been merged into {output_file}\")"
   ]
  },
  {
   "cell_type": "code",
   "execution_count": null,
   "id": "ac8d4914-c812-4e39-bf18-738709ddffe9",
   "metadata": {},
   "outputs": [],
   "source": [
    "# calling a function to merge\n",
    "merge_large_csv(files, output_file)\n",
    "merged_vehicle = pd.read_csv('data/merged_vehicle.csv')\n",
    "merged_vehicle.info()"
   ]
  },
  {
   "cell_type": "code",
   "execution_count": null,
   "id": "97c4455e-dafb-410c-b2a7-12ea4f12b4c9",
   "metadata": {},
   "outputs": [],
   "source": [
    "# Select the columns of interest for analysis\n",
    "columns_of_interest = [\n",
    "    'accident_index',  \n",
    "    'vehicle_type', 'sex_of_driver', 'age_of_driver', 'age_band_of_driver' ,'driver_imd_decile'\n",
    "]\n",
    "\n",
    "vehicle_data_selected = merged_vehicle[columns_of_interest]"
   ]
  },
  {
   "cell_type": "code",
   "execution_count": null,
   "id": "04ce18c4-9434-4ed6-9299-d42f813051ba",
   "metadata": {},
   "outputs": [],
   "source": [
    "#print(vehicle_data_selected.isnull().sum())  # 检查每列中的缺失值数量\n",
    "\n",
    "# 替换所有可能的占位符为 NaN\n",
    "vehicle_data_selected.replace([\"\", \" \", -1], pd.NA, inplace=True)\n",
    "\n",
    "print(vehicle_data_selected.isin([-1]).sum())  # 检查每列中是否仍然存在 -1\n",
    "# 再次删除 NaN\n",
    "cleaned_vehicle = vehicle_data_selected.dropna()\n",
    "\n",
    "cleaned_file_path = 'data/cleaned_vehicle.csv'\n",
    "cleaned_vehicle.to_csv(cleaned_file_path, index=False)\n",
    "cleaned_vehicle"
   ]
  },
  {
   "cell_type": "code",
   "execution_count": null,
   "id": "1a5b5941-f4ae-4b82-a671-66e0d3f791a5",
   "metadata": {},
   "outputs": [],
   "source": [
    "# 将指定列转换为数字格式\n",
    "columns_to_convert = ['vehicle_type', 'sex_of_driver', 'age_of_driver', 'age_band_of_driver', 'driver_imd_decile']  # 替换为你要转换的列名列表\n",
    "\n",
    "for col in columns_to_convert:\n",
    "    cleaned_vehicle[col] = pd.to_numeric(cleaned_vehicle[col], errors='coerce')\n",
    "    cleaned_vehicle = cleaned_vehicle.dropna(subset=[col])  # 删除包含 NaN 的行\n",
    "    cleaned_vehicle[col] = cleaned_vehicle[col].astype(int)  # 转换为整数\n",
    "    cleaned_vehicle = cleaned_vehicle[~cleaned_vehicle.isin([-1]).any(axis=1)]\n",
    "print(cleaned_vehicle.isin([-1]).sum())  # 检查每列中是否仍然存在 -1\n",
    "# Display the summary of the selected columns to check their data types and missing values\n",
    "cleaned_vehicle"
   ]
  },
  {
   "cell_type": "code",
   "execution_count": null,
   "id": "69189f68-f9ca-461f-a643-670b6546df79",
   "metadata": {},
   "outputs": [],
   "source": [
    "cleaned_vehicle['sex_of_driver'].unique()"
   ]
  },
  {
   "cell_type": "code",
   "execution_count": null,
   "id": "1ab345b6-d682-4504-927a-93fb758d9154",
   "metadata": {},
   "outputs": [],
   "source": [
    "cleaned_vehicle['age_band_of_driver'].unique()"
   ]
  },
  {
   "cell_type": "code",
   "execution_count": null,
   "id": "7c175529-543c-42c2-81f4-7e128a97425c",
   "metadata": {},
   "outputs": [],
   "source": [
    "cleaned_vehicle['driver_imd_decile'].unique()"
   ]
  },
  {
   "cell_type": "code",
   "execution_count": null,
   "id": "e731f07f-cc78-45eb-adf1-a0521c728dfb",
   "metadata": {},
   "outputs": [],
   "source": [
    "cleaned_vehicle['vehicle_type'].unique()"
   ]
  },
  {
   "cell_type": "code",
   "execution_count": null,
   "id": "3e5d1c39-d174-4111-a3b7-fc0dcad1e069",
   "metadata": {},
   "outputs": [],
   "source": [
    "# 绘制年龄段分布直方图\n",
    "plt.figure(figsize=(6, 4))\n",
    "ax = cleaned_vehicle['age_band_of_driver'].hist(\n",
    "    bins=11, color='skyblue', edgecolor='black', alpha=0.7, label='Histogram')\n",
    "\n",
    "ax.set_title(\"Number of Accidents by Driver's Age Band\", fontsize=14, color='darkblue', pad=20)\n",
    "ax.set_xlabel(\"Age Band of Driver\", fontsize=12, color='black')\n",
    "ax.set_ylabel(\"Number of Accidents\", fontsize=12, color='black')\n",
    "ax.xaxis.set_major_locator(plt.MultipleLocator(1))  # 设置 x 轴刻度每 1 显示一次\n",
    "#ax.grid(axis='y', linestyle='--', alpha=0.7)  # 添加水平网格线\n",
    "\n",
    "# 移除网格线\n",
    "ax.grid(False)\n",
    "\n",
    "# 添加图例\n",
    "plt.legend(fontsize=10)\n",
    "\n",
    "# 调整布局并显示图表\n",
    "plt.tight_layout()\n",
    "plt.show()"
   ]
  },
  {
   "cell_type": "code",
   "execution_count": null,
   "id": "f5bc8c71-63b2-4991-bd0a-282b254cb437",
   "metadata": {},
   "outputs": [],
   "source": [
    "# 绘制年龄分布直方图\n",
    "plt.figure(figsize=(6, 4))\n",
    "ax = cleaned_vehicle['age_band_of_driver'].hist(\n",
    "    bins=100, color='skyblue', edgecolor='black', alpha=0.7, label='Histogram')\n",
    "\n",
    "ax.set_title(\"Number of Accidents by Driver's Age\", fontsize=14, color='darkblue', pad=20)\n",
    "ax.set_xlabel(\"Age Band of Driver\", fontsize=12, color='black')\n",
    "ax.set_ylabel(\"Number of Accidents\", fontsize=12, color='black')\n",
    "ax.xaxis.set_major_locator(plt.MultipleLocator(5))  # 设置 x 轴刻度每 1 显示一次\n",
    "#ax.grid(axis='y', linestyle='--', alpha=0.7)  # 添加水平网格线\n",
    "\n",
    "# 移除网格线\n",
    "ax.grid(False)\n",
    "\n",
    "# 添加图例\n",
    "plt.legend(fontsize=10)\n",
    "\n",
    "# 调整布局并显示图表\n",
    "plt.tight_layout()\n",
    "plt.show()"
   ]
  },
  {
   "cell_type": "code",
   "execution_count": null,
   "id": "5f1bf0a0-f842-49e3-9efe-c7264b5e1620",
   "metadata": {},
   "outputs": [],
   "source": [
    "sex_of_driver_counts = cleaned_vehicle['sex_of_driver'].value_counts()\n",
    "\n",
    "# 绘制饼图\n",
    "plt.figure(figsize=(6, 6))\n",
    "plt.pie(sex_of_driver_counts, \n",
    "        labels=sex_of_driver_counts.index, \n",
    "        autopct='%1.1f%%', \n",
    "        startangle=140, \n",
    "        colors=['skyblue', 'lightcoral', 'lightgreen'])\n",
    "plt.title('Proportion of Accidents by Driver\\'s Sex', fontsize=14)\n",
    "plt.show()"
   ]
  },
  {
   "cell_type": "code",
   "execution_count": null,
   "id": "dab67f65-3790-4204-b7ba-11c59566e62b",
   "metadata": {},
   "outputs": [],
   "source": [
    "# 绘制直方图\n",
    "plt.figure(figsize=(6, 4))\n",
    "ax = cleaned_vehicle['driver_imd_decile'].hist(bins=10, color='skyblue', edgecolor='black', alpha=0.7, label='Histogram')\n",
    "\n",
    "# 计算每个IMD分位数的事故数量\n",
    "imd_counts = cleaned_vehicle['driver_imd_decile'].value_counts().sort_index()\n",
    "\n",
    "# 叠加折线图\n",
    "plt.plot(imd_counts.index, imd_counts.values, color='darkblue', marker='o', linestyle='-', linewidth=2, label='Trend Line')\n",
    "plt.title(\"Number of Accidents by Driver's IMD Decile\", fontsize=14, color='darkblue', pad=20)\n",
    "plt.xlabel(\"IMD Decile (1: Most Deprived, 10: Least Deprived)\", fontsize=12, color='black')\n",
    "plt.ylabel(\"Number of Accidents\", fontsize=12, color='black')\n",
    "plt.xticks(range(1, 11))  # 显示1-10的刻度\n",
    "plt.grid(axis='y', linestyle='--', alpha=0.7)  # 添加网格线\n",
    "plt.legend(fontsize=10)  # 添加图例\n",
    "\n",
    "plt.tight_layout()\n",
    "plt.show()\n",
    "\n",
    "\n",
    "# 设置图表样式\n",
    "sn.set_style(\"whitegrid\")\n",
    "\n",
    "plt.figure(figsize=(6, 4))\n",
    "ax = sn.countplot(\n",
    "    data=cleaned_vehicle, \n",
    "    y='vehicle_type', \n",
    "    order=cleaned_vehicle['vehicle_type'].value_counts().index, \n",
    "    palette=\"coolwarm\"\n",
    ")\n",
    "\n",
    "# 计算总数\n",
    "total = len(cleaned_vehicle)\n",
    "\n",
    "# 添加百分比标签\n",
    "for p in ax.patches:\n",
    "    width = p.get_width()\n",
    "    ax.text(\n",
    "        width + total * 0.01,  # 微调位置\n",
    "        p.get_y() + p.get_height() / 2., \n",
    "        f'{width / total:.1%}', \n",
    "        va=\"center\", \n",
    "        fontsize=10, \n",
    "        color='black'\n",
    "    )\n",
    "\n",
    "# 设置标题和标签\n",
    "plt.title('Accident Frequency by Vehicle Type', fontsize=14, color='darkblue', pad=20)\n",
    "plt.ylabel('Vehicle Type', fontsize=12, color='black')\n",
    "plt.xlabel('Frequency', fontsize=12, color='black')\n",
    "\n",
    "# 调整网格线样式\n",
    "ax.xaxis.grid(True, linestyle='--', alpha=0.7)\n",
    "ax.yaxis.grid(False)  # 关闭 y 轴的网格线\n",
    "\n",
    "# 优化图表布局\n",
    "plt.tight_layout()\n",
    "\n",
    "# 显示图表\n",
    "plt.show()"
   ]
  }
 ],
 "metadata": {
  "kernelspec": {
   "display_name": "Python (base)",
   "language": "python",
   "name": "base"
  },
  "language_info": {
   "codemirror_mode": {
    "name": "ipython",
    "version": 3
   },
   "file_extension": ".py",
   "mimetype": "text/x-python",
   "name": "python",
   "nbconvert_exporter": "python",
   "pygments_lexer": "ipython3",
   "version": "3.11.9"
  }
 },
 "nbformat": 4,
 "nbformat_minor": 5
}
